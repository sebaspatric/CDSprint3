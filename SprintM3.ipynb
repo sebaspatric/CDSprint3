{
  "cells": [
    {
      "cell_type": "markdown",
      "metadata": {
        "id": "aUGEJhCF7mDG"
      },
      "source": [
        "# MÓDULO 3: ANÁLISIS EXPLORATORIO Y PROGRAMACIÓN ESTADÍSTICA\n",
        "- Nombre alumno: Sebastián Menares Arriaza\n"
      ]
    },
    {
      "cell_type": "markdown",
      "metadata": {
        "id": "RnUqe6-28OBY"
      },
      "source": [
        "## Actividades"
      ]
    },
    {
      "cell_type": "markdown",
      "metadata": {},
      "source": [
        "1. Crear el siguiente DataFrame indexado:"
      ]
    },
    {
      "cell_type": "code",
      "execution_count": 5,
      "metadata": {},
      "outputs": [],
      "source": [
        "import numpy as np"
      ]
    },
    {
      "cell_type": "code",
      "execution_count": 10,
      "metadata": {},
      "outputs": [
        {
          "name": "stdout",
          "output_type": "stream",
          "text": [
            "   calorias  tiempo\n",
            "L       420      60\n",
            "M       380      40\n",
            "χ       390      75\n",
            "J       490      55\n",
            "ν       300      45\n"
          ]
        }
      ],
      "source": [
        "import pandas as pd\n",
        "\n",
        "# Crear el DataFrame\n",
        "df = pd.DataFrame({\n",
        "    'calorias': [420, 380, 390, 490, 300],\n",
        "    'tiempo': [60, 40, 75, 55, 45]\n",
        "}, index=['L', 'M', 'χ', 'J', 'ν'])\n",
        "\n",
        "# Mostrar el DataFrame\n",
        "print(df)\n"
      ]
    },
    {
      "cell_type": "markdown",
      "metadata": {},
      "source": [
        "2. Calcular la media, mediana, y desviación típica de ambas columnas.\n"
      ]
    },
    {
      "cell_type": "code",
      "execution_count": 12,
      "metadata": {},
      "outputs": [
        {
          "name": "stdout",
          "output_type": "stream",
          "text": [
            "Calorias:\n",
            "Media: 396.0\n",
            "Mediana: 390.0\n",
            "Desviación típica: 68.7749954561976\n",
            "\n",
            "Tiempo:\n",
            "Media: 55.0\n",
            "Mediana: 55.0\n",
            "Desviación típica: 13.693063937629153\n"
          ]
        }
      ],
      "source": [
        "\n",
        "# Calcular la media, mediana y desviación típica de ambas columnas\n",
        "media_calorias = df['calorias'].mean()\n",
        "mediana_calorias = df['calorias'].median()\n",
        "desviacion_calorias = df['calorias'].std()\n",
        "\n",
        "media_tiempo = df['tiempo'].mean()\n",
        "mediana_tiempo = df['tiempo'].median()\n",
        "desviacion_tiempo = df['tiempo'].std()\n",
        "\n",
        "# Mostrar los resultados\n",
        "print(\"Calorias:\")\n",
        "print(\"Media:\", media_calorias)\n",
        "print(\"Mediana:\", mediana_calorias)\n",
        "print(\"Desviación típica:\", desviacion_calorias)\n",
        "print(\"\\nTiempo:\")\n",
        "print(\"Media:\", media_tiempo)\n",
        "print(\"Mediana:\", mediana_tiempo)\n",
        "print(\"Desviación típica:\", desviacion_tiempo)"
      ]
    },
    {
      "cell_type": "code",
      "execution_count": 13,
      "metadata": {},
      "outputs": [
        {
          "name": "stdout",
          "output_type": "stream",
          "text": [
            "Calorias:\n",
            "Media: 396.0\n",
            "Mediana: 390.0\n",
            "Desviación típica: 61.514225996918796\n",
            "\n",
            "Tiempo:\n",
            "Media: 55.0\n",
            "Mediana: 55.0\n",
            "Desviación típica: 12.24744871391589\n"
          ]
        }
      ],
      "source": [
        "# Calcular la media, mediana y desviación típica de ambas columnas con NumPy\n",
        "media_calorias = np.mean(df['calorias'])\n",
        "mediana_calorias = np.median(df['calorias'])\n",
        "desviacion_calorias = np.std(df['calorias'])\n",
        "\n",
        "media_tiempo = np.mean(df['tiempo'])\n",
        "mediana_tiempo = np.median(df['tiempo'])\n",
        "desviacion_tiempo = np.std(df['tiempo'])\n",
        "\n",
        "# Mostrar los resultados\n",
        "print(\"Calorias:\")\n",
        "print(\"Media:\", media_calorias)\n",
        "print(\"Mediana:\", mediana_calorias)\n",
        "print(\"Desviación típica:\", desviacion_calorias)\n",
        "print(\"\\nTiempo:\")\n",
        "print(\"Media:\", media_tiempo)\n",
        "print(\"Mediana:\", mediana_tiempo)\n",
        "print(\"Desviación típica:\", desviacion_tiempo)"
      ]
    },
    {
      "cell_type": "markdown",
      "metadata": {},
      "source": [
        "3. Añadir otra columna booleana al DataFrame para ver si se ha cumplido el reto de quemar más de 400 calorías por hora. La nueva columna debe generarse aplicando una fórmula a las otras columnas. El DataFrame resultante debe ser el siguiente:"
      ]
    },
    {
      "cell_type": "code",
      "execution_count": 14,
      "metadata": {},
      "outputs": [
        {
          "name": "stdout",
          "output_type": "stream",
          "text": [
            "   calorias  tiempo  reto_cumplido\n",
            "L       420      60           True\n",
            "M       380      40           True\n",
            "χ       390      75          False\n",
            "J       490      55           True\n",
            "ν       300      45          False\n"
          ]
        }
      ],
      "source": [
        "# Añadir una nueva columna booleana al DataFrame para verificar el reto de quemar más de 400 calorías por hora\n",
        "df['reto_cumplido'] = df['calorias'] *60/ df['tiempo'] > 400\n",
        "\n",
        "# Mostrar el DataFrame resultante\n",
        "print(df)"
      ]
    },
    {
      "cell_type": "markdown",
      "metadata": {},
      "source": [
        "4. Filtrar el DataFrame y devolver otro DataFrame con las filas pares que cumplan que el número de calorías es mayor de 400.\n"
      ]
    },
    {
      "cell_type": "code",
      "execution_count": 27,
      "metadata": {},
      "outputs": [
        {
          "name": "stdout",
          "output_type": "stream",
          "text": [
            "   calorias  tiempo  reto_cumplido\n",
            "M       380      40           True\n",
            "J       490      55           True\n"
          ]
        }
      ],
      "source": [
        "\n",
        "# Filtrar las filas pares del DataFrame\n",
        "df_filtrado1 = df.iloc[1::2]\n",
        "\n",
        "# Mostrar el DataFrame filtrado\n",
        "print(df_filtrado1)"
      ]
    },
    {
      "cell_type": "code",
      "execution_count": 29,
      "metadata": {},
      "outputs": [
        {
          "name": "stdout",
          "output_type": "stream",
          "text": [
            "   calorias  tiempo  reto_cumplido\n",
            "M       380      40           True\n",
            "J       490      55           True\n"
          ]
        },
        {
          "name": "stderr",
          "output_type": "stream",
          "text": [
            "C:\\Users\\SMA\\AppData\\Local\\Temp\\ipykernel_31616\\2937498412.py:1: UserWarning: Boolean Series key will be reindexed to match DataFrame index.\n",
            "  df_filtrado = df.iloc[1::2][df['reto_cumplido']]\n"
          ]
        }
      ],
      "source": [
        "df_filtrado = df.iloc[1::2][df['reto_cumplido']]\n",
        "\n",
        "print(df_filtrado)"
      ]
    },
    {
      "cell_type": "markdown",
      "metadata": {},
      "source": [
        "5. Crear a partir del DataFrame una serie con los porcentajes de días que se ha conseguido el reto y los que no.\n"
      ]
    },
    {
      "cell_type": "code",
      "execution_count": 30,
      "metadata": {},
      "outputs": [
        {
          "name": "stdout",
          "output_type": "stream",
          "text": [
            "Porcentaje de días en los que se ha conseguido el reto y no se ha conseguido:\n",
            "True     60.0\n",
            "False    40.0\n",
            "Name: reto_cumplido, dtype: float64\n"
          ]
        }
      ],
      "source": [
        "# Contar el número de días en los que se ha conseguido y no se ha conseguido el reto\n",
        "conteo_reto = df['reto_cumplido'].value_counts()\n",
        "\n",
        "# Calcular los porcentajes de días en los que se ha conseguido y no se ha conseguido el reto\n",
        "porcentaje_reto = conteo_reto / len(df) * 100\n",
        "\n",
        "# Mostrar la serie con los porcentajes\n",
        "print(\"Porcentaje de días en los que se ha conseguido el reto y no se ha conseguido:\")\n",
        "print(porcentaje_reto)"
      ]
    },
    {
      "cell_type": "markdown",
      "metadata": {},
      "source": [
        "6. Crear un gráfico como el de más abajo que muestre la progresión de las calorías y tiempo durante la semana."
      ]
    },
    {
      "cell_type": "code",
      "execution_count": 31,
      "metadata": {},
      "outputs": [
        {
          "data": {
            "image/png": "[encoded data removed]",
            "text/plain": [
              "<Figure size 1000x600 with 1 Axes>"
            ]
          },
          "metadata": {},
          "output_type": "display_data"
        }
      ],
      "source": [
        "# Crear el gráfico de progresión de calorías y tiempo durante la semana\n",
        "from matplotlib import pyplot as plt\n",
        "\n",
        "\n",
        "plt.figure(figsize=(10, 6))\n",
        "plt.plot(df.index, df['calorias'], marker='o', label='Calorías')\n",
        "plt.plot(df.index  , df['tiempo'], marker='s', label='Tiempo')\n",
        "plt.title('Progresión de Calorías y Tiempo durante la Semana')\n",
        "plt.xlabel('Día de la Semana')\n",
        "plt.ylabel('Cantidad')\n",
        "plt.legend()\n",
        "plt.grid(True)\n",
        "plt.xticks(df.index)  # Asegurar que solo se muestren los días de la semana en el eje x\n",
        "plt.tight_layout()\n",
        "\n",
        "# Mostrar el gráfico\n",
        "plt.show()      "
      ]
    }
  ],
  "metadata": {
    "colab": {
      "provenance": []
    },
    "kernelspec": {
      "display_name": "Python 3",
      "name": "python3"
    },
    "language_info": {
      "codemirror_mode": {
        "name": "ipython",
        "version": 3
      },
      "file_extension": ".py",
      "mimetype": "text/x-python",
      "name": "python",
      "nbconvert_exporter": "python",
      "pygments_lexer": "ipython3",
      "version": "3.9.13"
    }
  },
  "nbformat": 4,
  "nbformat_minor": 0
}
